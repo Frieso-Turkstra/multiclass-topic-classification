{
  "cells": [
    {
      "cell_type": "markdown",
      "metadata": {
        "id": "yKB6eTK0sd9b"
      },
      "source": [
        "Mount your google drive folder"
      ]
    },
    {
      "cell_type": "code",
      "execution_count": null,
      "metadata": {
        "id": "wMO9y0Vzmz6J"
      },
      "outputs": [],
      "source": [
        "from google.colab import drive\n",
        "drive.mount('/content/gdrive')"
      ]
    },
    {
      "cell_type": "markdown",
      "metadata": {
        "id": "9CNyLmlbslvG"
      },
      "source": [
        "Command for running LSTM script (not needed for the pre-trained model)"
      ]
    },
    {
      "cell_type": "code",
      "execution_count": null,
      "metadata": {
        "id": "v5Pyb0QThevK"
      },
      "outputs": [],
      "source": [
        "# !python /content/gdrive/MyDrive/AS3/lfd_assignment3.py --train_file /content/gdrive/MyDrive/AS3/train.txt --dev_file /content/gdrive/MyDrive/AS3/dev.txt --test_file /content/gdrive/MyDrive/AS3/test.txt --embeddings /content/gdrive/MyDrive/AS3/glove_reviews.json -fr"
      ]
    },
    {
      "cell_type": "markdown",
      "metadata": {
        "id": "WjWxqb2qstLA"
      },
      "source": [
        "Install transformer library"
      ]
    },
    {
      "cell_type": "code",
      "execution_count": null,
      "metadata": {
        "id": "IHgcJRpl2Ub6"
      },
      "outputs": [],
      "source": [
        "!pip install transformers"
      ]
    },
    {
      "cell_type": "markdown",
      "metadata": {
        "id": "_qMnliw2tK9D"
      },
      "source": [
        "Import libraries and packages needed for this notebook and set random seeds (this will not make the experiment fully reproducible)"
      ]
    },
    {
      "cell_type": "code",
      "execution_count": null,
      "metadata": {
        "id": "bwtZ4JN6rbER"
      },
      "outputs": [],
      "source": [
        "import random\n",
        "import numpy as np\n",
        "import tensorflow as tf\n",
        "import matplotlib.pyplot as plt\n",
        "import pandas as pd\n",
        "from transformers import set_seed, TFAutoModelForSequenceClassification, AutoTokenizer\n",
        "from tensorflow.keras.losses import CategoricalCrossentropy\n",
        "from tensorflow.keras.optimizers import Adam\n",
        "from sklearn.preprocessing import LabelBinarizer\n",
        "from sklearn.metrics import classification_report, confusion_matrix, ConfusionMatrixDisplay\n",
        "\n",
        "seed = 101\n",
        "random.seed(seed)\n",
        "np.random.seed(seed)\n",
        "tf.random.set_seed(seed)\n",
        "set_seed(seed)"
      ]
    },
    {
      "cell_type": "markdown",
      "metadata": {
        "id": "ij2c-0O8uDlV"
      },
      "source": [
        "Read in train, dev and test files"
      ]
    },
    {
      "cell_type": "code",
      "execution_count": null,
      "metadata": {
        "id": "brX3gaZdjpj8"
      },
      "outputs": [],
      "source": [
        "def read_corpus(corpus_file):\n",
        "    '''Read in review data set and returns docs and labels'''\n",
        "    documents = []\n",
        "    labels = []\n",
        "    with open(corpus_file, encoding='utf-8') as f:\n",
        "        for line in f:\n",
        "            tokens = line.strip()\n",
        "            documents.append(\" \".join(tokens.split()[3:]).strip())\n",
        "            # 6-class problem: books, camera, dvd, health, music, software\n",
        "            labels.append(tokens.split()[0])\n",
        "    return documents, labels\n",
        "\n",
        "# Read in the data and embeddings\n",
        "X_train, Y_train = read_corpus(\"/content/gdrive/MyDrive/AS3/train.txt\")\n",
        "X_dev, Y_dev = read_corpus(\"/content/gdrive/MyDrive/AS3/dev.txt\")\n",
        "X_test, Y_test = read_corpus(\"/content/gdrive/MyDrive/AS3/test.txt\")"
      ]
    },
    {
      "cell_type": "markdown",
      "metadata": {
        "id": "NEnoULfPuGRm"
      },
      "source": [
        "Load in model and tokenizer from Huggingface"
      ]
    },
    {
      "cell_type": "code",
      "execution_count": null,
      "metadata": {
        "id": "6LB-9UJmjANO"
      },
      "outputs": [],
      "source": [
        "#Best model\n",
        "lm = \"bert-base-cased\"\n",
        "# Other LMs we tried\n",
        "#lm = \"bert-base-uncased\"\n",
        "#lm = \"distilbert-base-cased\"\n",
        "#lm = \"distilbert-base-uncased\"\n",
        "#lm = \"roberta-base\"\n",
        "#lm = \"albert-base-v2\"\n",
        "#lm = \"microsoft/deberta-base\"\n",
        "#lm = \"facebook/bart-base\"\n",
        "tokenizer = AutoTokenizer.from_pretrained(lm)\n",
        "model = TFAutoModelForSequenceClassification.from_pretrained(lm, num_labels=6)\n",
        "tokens_train = tokenizer(X_train, padding=True, max_length=300,\n",
        "truncation=True, return_tensors=\"np\").data\n",
        "tokens_dev = tokenizer(X_dev, padding=True, max_length=300,\n",
        "truncation=True, return_tensors=\"np\").data\n",
        "tokens_test = tokenizer(X_test, padding=True, max_length=300,\n",
        "truncation=True, return_tensors=\"np\").data"
      ]
    },
    {
      "cell_type": "markdown",
      "metadata": {
        "id": "Bpte5Ke5ueHw"
      },
      "source": [
        "Set loss function, learning rate or learning rate scheduler and optimizer"
      ]
    },
    {
      "cell_type": "code",
      "execution_count": null,
      "metadata": {
        "id": "POLGZIyCkonI"
      },
      "outputs": [],
      "source": [
        "loss_function = CategoricalCrossentropy(from_logits=True)"
      ]
    },
    {
      "cell_type": "code",
      "execution_count": null,
      "metadata": {
        "id": "2gOqxHoFnMnT"
      },
      "outputs": [],
      "source": [
        "initial_learning_rate = 2e-5\n",
        "lr_schedule = tf.keras.optimizers.schedules.PolynomialDecay(\n",
        "    initial_learning_rate,\n",
        "    decay_steps=1000,\n",
        "    end_learning_rate=1e-7,\n",
        "    power=1.0,\n",
        ")"
      ]
    },
    {
      "cell_type": "code",
      "execution_count": null,
      "metadata": {
        "id": "VQG-SFlpks24"
      },
      "outputs": [],
      "source": [
        "optim = Adam(learning_rate=lr_schedule)"
      ]
    },
    {
      "cell_type": "markdown",
      "metadata": {
        "id": "_CNreAYEum5c"
      },
      "source": [
        "Transform string labels to one-hot encodings"
      ]
    },
    {
      "cell_type": "code",
      "execution_count": null,
      "metadata": {
        "id": "fu_v7xYak7C-"
      },
      "outputs": [],
      "source": [
        "encoder = LabelBinarizer()\n",
        "Y_train_bin = encoder.fit_transform(Y_train)\n",
        "Y_dev_bin = encoder.fit_transform(Y_dev)\n",
        "Y_test_bin = encoder.fit_transform(Y_test)"
      ]
    },
    {
      "cell_type": "markdown",
      "metadata": {
        "id": "P_nXwUM0uwPC"
      },
      "source": [
        "Compile and fit the model using an early stopping callback"
      ]
    },
    {
      "cell_type": "code",
      "execution_count": null,
      "metadata": {
        "id": "OAsyv8i3kxYb"
      },
      "outputs": [],
      "source": [
        "callback = tf.keras.callbacks.EarlyStopping(monitor='val_loss', patience=5, restore_best_weights=True)\n",
        "model.compile(loss=loss_function, optimizer=optim, metrics=['accuracy'])\n",
        "model.fit(tokens_train, Y_train_bin, verbose=1, epochs=50, callbacks=[callback],\n",
        "batch_size=16, validation_data=(tokens_dev, Y_dev_bin))"
      ]
    },
    {
      "cell_type": "markdown",
      "metadata": {
        "id": "-YU3WpyYu6Q-"
      },
      "source": [
        "Print loss and accuracy on the test set"
      ]
    },
    {
      "cell_type": "code",
      "execution_count": null,
      "metadata": {
        "colab": {
          "base_uri": "https://localhost:8080/"
        },
        "id": "iz9pusEnmHOR",
        "outputId": "dfbd5552-d987-4d6a-e6a6-86c4d216f1ae"
      },
      "outputs": [
        {
          "name": "stdout",
          "output_type": "stream",
          "text": [
            "38/38 [==============================] - 5s 122ms/step - loss: 0.1449 - accuracy: 0.9517\n",
            "[0.14490105211734772, 0.9516666531562805]\n"
          ]
        }
      ],
      "source": [
        "results = model.evaluate(tokens_test, Y_test_bin, batch_size=16)\n",
        "print(results)"
      ]
    },
    {
      "cell_type": "markdown",
      "metadata": {
        "id": "YnHC36PLvn4W"
      },
      "source": [
        "Print classification report and confusion matrix on the test set"
      ]
    },
    {
      "cell_type": "code",
      "execution_count": null,
      "metadata": {
        "id": "OAO3I0ZgRpxv"
      },
      "outputs": [],
      "source": [
        "def print_measures(Y_test, Y_pred, plot_cm=False):\n",
        "    ''' Takes in true labels Y_test, predicted labels Y_pred and a boolean\n",
        "    plot_cm (default=False). Prints a classification report (precision, recall\n",
        "    and F1 score for each class) and a confusion matrix with labels. To plot a\n",
        "    visualization of the confusion matrix, set plot_cm to True'''\n",
        "    report = classification_report(Y_test, Y_pred)\n",
        "\n",
        "    # Create a confusion matrix with labels\n",
        "    labels = np.unique(Y_test)\n",
        "    cm = confusion_matrix(Y_test, Y_pred, labels=labels)\n",
        "    cm_labeled = pd.DataFrame(cm, index=labels, columns=labels)\n",
        "\n",
        "    print(\"Classification report:\\n\\n\", report)\n",
        "    print(\"Confusion matrix:\\n\\n\", cm_labeled)\n",
        "\n",
        "    if plot_cm:\n",
        "      # Plot confusion matrix using pyplot\n",
        "        display = ConfusionMatrixDisplay(confusion_matrix=cm, display_labels=labels)\n",
        "        display.plot()\n",
        "        plt.show()"
      ]
    },
    {
      "cell_type": "code",
      "execution_count": null,
      "metadata": {
        "id": "w4DgFKC_OfJo"
      },
      "outputs": [],
      "source": [
        "predictions = model.predict(tokens_test)['logits']\n",
        "Y_pred = encoder.inverse_transform(predictions)"
      ]
    },
    {
      "cell_type": "code",
      "execution_count": null,
      "metadata": {
        "colab": {
          "base_uri": "https://localhost:8080/",
          "height": 865
        },
        "id": "tGEu33FPOxBO",
        "outputId": "f4cb49f2-8efd-44ab-b6e4-3b9743c701a6"
      },
      "outputs": [
        {
          "name": "stdout",
          "output_type": "stream",
          "text": [
            "Classification report:\n",
            "\n",
            "               precision    recall  f1-score   support\n",
            "\n",
            "       books       0.95      0.97      0.96       108\n",
            "      camera       0.96      0.94      0.95        99\n",
            "         dvd       0.94      0.95      0.95       105\n",
            "      health       0.94      0.95      0.95        82\n",
            "       music       0.96      0.97      0.97       111\n",
            "    software       0.95      0.92      0.93        95\n",
            "\n",
            "    accuracy                           0.95       600\n",
            "   macro avg       0.95      0.95      0.95       600\n",
            "weighted avg       0.95      0.95      0.95       600\n",
            "\n",
            "Confusion matrix:\n",
            "\n",
            "           books  camera  dvd  health  music  software\n",
            "books       105       0    1       0      2         0\n",
            "camera        0      93    2       2      0         2\n",
            "dvd           1       0  100       1      2         1\n",
            "health        0       2    0      78      0         2\n",
            "music         1       0    2       0    108         0\n",
            "software      3       2    1       2      0        87\n"
          ]
        },
        {
          "data": {
            "image/png": "[encoded data removed]",
            "text/plain": [
              "<Figure size 640x480 with 2 Axes>"
            ]
          },
          "metadata": {},
          "output_type": "display_data"
        }
      ],
      "source": [
        "print_measures(Y_test, Y_pred, plot_cm=True)"
      ]
    }
  ],
  "metadata": {
    "accelerator": "GPU",
    "colab": {
      "gpuType": "V100",
      "provenance": []
    },
    "kernelspec": {
      "display_name": "Python 3",
      "name": "python3"
    },
    "language_info": {
      "name": "python"
    }
  },
  "nbformat": 4,
  "nbformat_minor": 0
}
